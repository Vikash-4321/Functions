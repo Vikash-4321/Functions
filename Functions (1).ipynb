{
  "nbformat": 4,
  "nbformat_minor": 0,
  "metadata": {
    "colab": {
      "provenance": []
    },
    "kernelspec": {
      "name": "python3",
      "display_name": "Python 3"
    },
    "language_info": {
      "name": "python"
    }
  },
  "cells": [
    {
      "cell_type": "markdown",
      "source": [
        "#Functions"
      ],
      "metadata": {
        "id": "4cQ3JXlgK_kU"
      }
    },
    {
      "cell_type": "markdown",
      "source": [
        "Q1. What is the difference between a function and a method in python?\n",
        "  - In Python, functions and methods are both blocks of reusable code, but they have a key difference in how they are used and what they are associated with:\n",
        "\n",
        "  **Function**\n",
        "  A function is independent and is defined using the def keyword.\n",
        "  It can exist outside of a class.\n",
        "  It is not tied to any object unless explicitly passed.\n",
        "  You call a function directly by its name (if in the same scope).\n",
        "  \n",
        "  Example:-\n",
        "  \n",
        "  def greet(name):\n",
        "\n",
        "    return f\"Hello, {name}!\"\n",
        "\n",
        "   print(greet(\"Ashu\"))\n",
        "\n",
        "   ** Method**\n",
        "    A method is a function that belongs to an object (usually a class instance).\n",
        "\n",
        "    It is defined inside a class.\n",
        "    It always takes at least one parameter (self for instance methods), which refers to the object itself.\n",
        "    You call a method on an object using dot (.) notation.\n",
        "\n",
        "    Ex.\n",
        "\n",
        "    class Greeter:\n",
        "    def greet(self, name):\n",
        "        return f\"Hello, {name}!\"\n",
        "\n",
        "   g = Greeter()\n",
        "\n",
        "   print(g.greet(\"Ashu\"))\n",
        "\n",
        "\n",
        "\n"
      ],
      "metadata": {
        "id": "OUcdPwlnLF5A"
      }
    },
    {
      "cell_type": "markdown",
      "source": [
        "Q2. Explain the concept of function arguments and parameters in python.\n",
        "\n",
        "    -In Python, parameters and arguments are related but not the same. Let's break down both terms clearly:\n",
        "\n",
        "     **Parameters (also called formal parameters)**\n",
        "    These are variables listed in a function definition.\n",
        "    They act as placeholders for the values the function will receive when it is called.\n",
        "    \n",
        "    Ex.\n",
        "    def greet(name):  # ← 'name' is a parameter\n",
        "    print(\"Hello\", name)\n",
        "\n",
        "   ** Arguments (also called actual parameters)**\n",
        "\n",
        "    These are the values passed to the function when calling it.\n",
        "    They replace the parameters during execution.\n",
        "\n",
        "    Ex.\n",
        "    greet(\"Ashu\")  # ← 'Ashu' is an argument\n",
        "\n"
      ],
      "metadata": {
        "id": "OCT3xOCkMdKs"
      }
    },
    {
      "cell_type": "markdown",
      "source": [
        "Q3. What are the different ways to define and call a function in python?\n",
        "\n",
        "    - In Python, there are multiple ways to define and call functions, depending on how you want to structure your code.\n",
        "\n",
        "        1.Standard Function Definition - Using the def keyword.\n",
        "     \n",
        "      def greet(name):\n",
        "     print(\"Hello\", name)\n",
        "     2. Function with Default Arguments -Provide default values to parameters.\n",
        "        def greet(name=\"Guest\"):\n",
        "        print(\"Hello\", name)\n",
        "      3. Function with Positional and Keyword Arguments-\n",
        "         def student_info(name, age):\n",
        "        print(f\"{name} is {age} years old.\")\n",
        "\n",
        "        student_info(\"Ashu\", 20)            # Positional\n",
        "        student_info(age=20, name=\"Ashu\")   # Keyword\n",
        "      4. Function with Variable-Length Arguments-Using *args (Positional)\n",
        "          def add(*numbers):\n",
        "          print(sum(numbers))\n",
        "\n",
        "          add(1, 2, 3, 4)\n",
        "      5. Anonymous Function (Lambda Function)- Used for small, one-line functions.\n",
        "          square = lambda x: x * x\n",
        "          print(square(5))\n",
        "           You call it the same way as normal functions:\n",
        "          square(4)\n",
        "\n",
        "      6.   Function as an Argument (Higher-order function)\n",
        "             def greet(name):\n",
        "              return f\"Hello {name}\"\n",
        "\n",
        "            def call_function(func):\n",
        "           print(func(\"Ashu\"))\n",
        "\n",
        "           call_function(greet)\n",
        "\n",
        "      7.   Recursive Function- A function that calls itself.\n",
        "              def factorial(n):\n",
        "               if n == 1:\n",
        "               return 1\n",
        "              return n * factorial(n - 1)\n",
        "\n",
        "             print(factorial(5))\n",
        "\n",
        "        8. Calling Function with Unpacked Arguments\n",
        "              def display(a, b, c):\n",
        "              print(a, b, c)\n",
        "\n",
        "              args = (1, 2, 3)\n",
        "             kwargs = {'a': 10, 'b': 20, 'c': 30}\n",
        "\n",
        "             display(*args)      # Positional unpacking\n",
        "             display(**kwargs)   # Keyword unpacking\n",
        "\n",
        "     \n",
        "     \n",
        "\n",
        "    \n",
        "\n",
        "\n",
        "         \n",
        "   \n",
        "\n",
        "   \n",
        "\n",
        "\n"
      ],
      "metadata": {
        "id": "ez5HK4eINR0j"
      }
    },
    {
      "cell_type": "markdown",
      "source": [
        "Q4. What is the purpose of the 'return' statement in a python function?\n",
        "  - The return statement is used to send back a result from a function to the\n",
        "    place where the function was called. It exits the function and optionally passes a value back to the caller.\n",
        "    \n",
        "     Ex.\n",
        "\n",
        "     def square(x):\n",
        "    return x * x\n",
        "\n",
        "    # You can reuse the result\n",
        "    s = square(5)\n",
        "    \n",
        "    print(s * 2)  # Output: 50\n",
        "\n"
      ],
      "metadata": {
        "id": "Jf_fDFgdPa92"
      }
    },
    {
      "cell_type": "markdown",
      "source": [
        "Q5. What are iterators in python and how do they differ from iterables?\n",
        "   \n",
        "    -* Iterable\n",
        "     An iterable is any Python object that can be looped over (i.e., you can iterate through it using a for loop).\n",
        "     It implements the __iter__() method.\n",
        "     It returns an iterator when passed to the iter() function.\n",
        "     Examples of iterables:\n",
        "      my_list = [1, 2, 3]\n",
        "      my_string = \"hello\"\n",
        "      my_tuple = (4, 5, 6)\n",
        "\n",
        "     for char in my_string:\n",
        "     print(char)\n",
        "\n",
        "     *Iterator\n",
        "     An iterator is an object that represents a stream of data, returning one item at a time.\n",
        "\n",
        "     It implements both __iter__() and __next__() methods.\n",
        "     It remembers the state (i.e., where it is in the iteration).\n",
        "     It raises a StopIteration exception when there are no more items.\n",
        "\n",
        "     Example using an iterator:\n",
        "      my_list = [1, 2, 3]\n",
        "      iterator = iter(my_list)\n",
        "\n",
        "      print(next(iterator))  # Output: 1\n",
        "      print(next(iterator))  # Output: 2\n",
        "      print(next(iterator))  # Output: 3\n",
        "      # print(next(iterator))  # Raises StopIteration\n",
        "\n",
        "\n",
        "\n"
      ],
      "metadata": {
        "id": "e3ujG2iZQRN8"
      }
    },
    {
      "cell_type": "markdown",
      "source": [
        "Q6. Explain the concept of generators in python and how they are defined.\n",
        "\n",
        "    - A generator in Python is a special type of iterator that is used to generate values on the fly, one at a time, using less memory than storing everything in a list.\n",
        "\n",
        "     Instead of returning all values at once (like a list), a generator yields values one by one as you iterate over it.\n",
        "     How to Define a Generator\n",
        "     Generators are defined like normal functions, but they use the **yield** keyword instead of return.\n",
        "\n",
        "     ➤ Example:\n",
        "      def count_up_to(max):\n",
        "      num = 1\n",
        "      while num <= max:\n",
        "        yield num\n",
        "        num += 1\n"
      ],
      "metadata": {
        "id": "5AQ--NcURcs9"
      }
    },
    {
      "cell_type": "markdown",
      "source": [
        "Q7. What are the advantages of using genartors over regular functions?\n",
        "  \n",
        "   -Advantages of Using Generators Over Regular Functions in Python\n",
        "    Generators offer several practical benefits, especially when dealing with large or infinite data sets.\n",
        "\n",
        "      1.Memory Efficiency- Generators do not store the entire result in memory. They yield one value at a time and hold only the current state.\n",
        "          Ex.\n",
        "          # Regular function (list)\n",
        "          def get_numbers_list(n):\n",
        "          return [i for i in range(n)]\n",
        "\n",
        "         # Generator\n",
        "         def get_numbers_gen(n):\n",
        "         for i in range(n):\n",
        "        yield i\n",
        "\n",
        "        get_numbers_list(1_000_000) creates a list in memory.\n",
        "\n",
        "        get_numbers_gen(1_000_000) creates values on demand, saving memory.\n",
        "\n",
        "        2. Infinite Sequences Are Possible\n",
        "           Ex.\n",
        "           def count_forever():\n",
        "           i = 0\n",
        "           while True:\n",
        "            yield i\n",
        "           i += 1\n",
        "\n",
        "\n",
        "\n",
        "\n",
        "         "
      ],
      "metadata": {
        "id": "sW4hfl75SHyk"
      }
    },
    {
      "cell_type": "markdown",
      "source": [
        "Q8. What is a lambda function in python and when is it typically used?\n",
        "\n",
        "   - A lambda function in Python is a small anonymous function defined using the lambda keyword instead of the regular def.\n",
        "       \n",
        "       lambda arguments: expression\n",
        "      \n",
        "       Common Use Cases- With map(),With filter(),With sorted(),With reduce()\n",
        "        \n",
        "        Ex.\n",
        "\n",
        "       nums = [1, 2, 3, 4]\n",
        "       squares = list(map(lambda x: x*x, nums))\n",
        "       print(squares)  # [1, 4, 9, 16]\n",
        "       \n",
        "       When Not to Use Lambda\n",
        "\n",
        "       If the function logic is complex or needs multiple lines, use def.\n",
        "\n",
        "       If readability matters more than brevity.\n",
        "\n",
        "\n"
      ],
      "metadata": {
        "id": "kXIhyBNiTCAh"
      }
    },
    {
      "cell_type": "markdown",
      "source": [
        "Q9. Explain the purpose and usage of the 'map()'function in python.\n",
        "\n",
        "    -The map() function is a built-in Python function used to apply a function to every item in an iterable (like a list, tuple, etc.) and return a new map object (an iterator) with the results.\n",
        "\n",
        "    Purpose:\n",
        "    To transform or process elements of a sequence without writing a loop.\n",
        "\n",
        "    Example 1: Using map() with a Built-in Function\n",
        "\n",
        "    nums = [\"1\", \"2\", \"3\"]\n",
        "    converted = list(map(int, nums))\n",
        "    print(converted)  # [1, 2, 3]\n",
        "\n",
        "    Here, int is applied to each string to convert it to an integer.\n"
      ],
      "metadata": {
        "id": "C2Hg31C7XUMf"
      }
    },
    {
      "cell_type": "markdown",
      "source": [
        "Q10.  What is the difference between 'map()','reduce()',and 'filter()'functions in python?\n",
        "\n",
        "     - 1. map() – Transform Items\n",
        "         ✅ Purpose:\n",
        "         Applies a function to every element in an iterable and returns a new iterable (map object).\n",
        "\n",
        "         Ex.\n",
        "         nums = [1, 2, 3]\n",
        "         squares = list(map(lambda x: x ** 2, nums))\n",
        "         print(squares)  # [1, 4, 9]\n",
        "\n",
        "         2. filter() – Select Items\n",
        "           ✅ Purpose:\n",
        "           Applies a function to test each item, and only items that return True are kept.\n",
        "\n",
        "           Ex.\n",
        "           nums = [1, 2, 3, 4]\n",
        "           evens = list(filter(lambda x: x % 2 == 0, nums))\n",
        "          print(evens)  # [2, 4]\n",
        "\n",
        "          3. reduce() – Combine Items\n",
        "             Unlike map() and filter(), reduce() is not a built-in. It's in the functools module.\n",
        "\n",
        "            ✅ Purpose:\n",
        "            Repeatedly applies a function to combine elements of an iterable into a single value.\n",
        "\n",
        "            Ex.\n",
        "            from functools import reduce\n",
        "            nums = [1, 2, 3, 4]\n",
        "            product = reduce(lambda x, y: x * y, nums)\n",
        "            print(product)  # 24\n",
        "\n",
        "       \n"
      ],
      "metadata": {
        "id": "_5B6ptzuX8kz"
      }
    },
    {
      "cell_type": "markdown",
      "source": [
        "Q11. Using pen & Paper write the internal mechanism for sum operation using  \n",
        "    reduce function on this given\n",
        "    list:[47,11,42,13];\n",
        "    "
      ],
      "metadata": {
        "id": "1_bLvPeKY6_y"
      }
    },
    {
      "cell_type": "code",
      "source": [
        "from google.colab import files\n",
        "uploaded = files.upload()"
      ],
      "metadata": {
        "colab": {
          "base_uri": "https://localhost:8080/",
          "height": 73
        },
        "id": "XgYWG-aPongj",
        "outputId": "acb82cc4-cc76-447f-ba47-ac841108c6e6"
      },
      "execution_count": 43,
      "outputs": [
        {
          "output_type": "display_data",
          "data": {
            "text/plain": [
              "<IPython.core.display.HTML object>"
            ],
            "text/html": [
              "\n",
              "     <input type=\"file\" id=\"files-bd7a60af-3cf4-4cce-b6d5-8baa7973ec2f\" name=\"files[]\" multiple disabled\n",
              "        style=\"border:none\" />\n",
              "     <output id=\"result-bd7a60af-3cf4-4cce-b6d5-8baa7973ec2f\">\n",
              "      Upload widget is only available when the cell has been executed in the\n",
              "      current browser session. Please rerun this cell to enable.\n",
              "      </output>\n",
              "      <script>// Copyright 2017 Google LLC\n",
              "//\n",
              "// Licensed under the Apache License, Version 2.0 (the \"License\");\n",
              "// you may not use this file except in compliance with the License.\n",
              "// You may obtain a copy of the License at\n",
              "//\n",
              "//      http://www.apache.org/licenses/LICENSE-2.0\n",
              "//\n",
              "// Unless required by applicable law or agreed to in writing, software\n",
              "// distributed under the License is distributed on an \"AS IS\" BASIS,\n",
              "// WITHOUT WARRANTIES OR CONDITIONS OF ANY KIND, either express or implied.\n",
              "// See the License for the specific language governing permissions and\n",
              "// limitations under the License.\n",
              "\n",
              "/**\n",
              " * @fileoverview Helpers for google.colab Python module.\n",
              " */\n",
              "(function(scope) {\n",
              "function span(text, styleAttributes = {}) {\n",
              "  const element = document.createElement('span');\n",
              "  element.textContent = text;\n",
              "  for (const key of Object.keys(styleAttributes)) {\n",
              "    element.style[key] = styleAttributes[key];\n",
              "  }\n",
              "  return element;\n",
              "}\n",
              "\n",
              "// Max number of bytes which will be uploaded at a time.\n",
              "const MAX_PAYLOAD_SIZE = 100 * 1024;\n",
              "\n",
              "function _uploadFiles(inputId, outputId) {\n",
              "  const steps = uploadFilesStep(inputId, outputId);\n",
              "  const outputElement = document.getElementById(outputId);\n",
              "  // Cache steps on the outputElement to make it available for the next call\n",
              "  // to uploadFilesContinue from Python.\n",
              "  outputElement.steps = steps;\n",
              "\n",
              "  return _uploadFilesContinue(outputId);\n",
              "}\n",
              "\n",
              "// This is roughly an async generator (not supported in the browser yet),\n",
              "// where there are multiple asynchronous steps and the Python side is going\n",
              "// to poll for completion of each step.\n",
              "// This uses a Promise to block the python side on completion of each step,\n",
              "// then passes the result of the previous step as the input to the next step.\n",
              "function _uploadFilesContinue(outputId) {\n",
              "  const outputElement = document.getElementById(outputId);\n",
              "  const steps = outputElement.steps;\n",
              "\n",
              "  const next = steps.next(outputElement.lastPromiseValue);\n",
              "  return Promise.resolve(next.value.promise).then((value) => {\n",
              "    // Cache the last promise value to make it available to the next\n",
              "    // step of the generator.\n",
              "    outputElement.lastPromiseValue = value;\n",
              "    return next.value.response;\n",
              "  });\n",
              "}\n",
              "\n",
              "/**\n",
              " * Generator function which is called between each async step of the upload\n",
              " * process.\n",
              " * @param {string} inputId Element ID of the input file picker element.\n",
              " * @param {string} outputId Element ID of the output display.\n",
              " * @return {!Iterable<!Object>} Iterable of next steps.\n",
              " */\n",
              "function* uploadFilesStep(inputId, outputId) {\n",
              "  const inputElement = document.getElementById(inputId);\n",
              "  inputElement.disabled = false;\n",
              "\n",
              "  const outputElement = document.getElementById(outputId);\n",
              "  outputElement.innerHTML = '';\n",
              "\n",
              "  const pickedPromise = new Promise((resolve) => {\n",
              "    inputElement.addEventListener('change', (e) => {\n",
              "      resolve(e.target.files);\n",
              "    });\n",
              "  });\n",
              "\n",
              "  const cancel = document.createElement('button');\n",
              "  inputElement.parentElement.appendChild(cancel);\n",
              "  cancel.textContent = 'Cancel upload';\n",
              "  const cancelPromise = new Promise((resolve) => {\n",
              "    cancel.onclick = () => {\n",
              "      resolve(null);\n",
              "    };\n",
              "  });\n",
              "\n",
              "  // Wait for the user to pick the files.\n",
              "  const files = yield {\n",
              "    promise: Promise.race([pickedPromise, cancelPromise]),\n",
              "    response: {\n",
              "      action: 'starting',\n",
              "    }\n",
              "  };\n",
              "\n",
              "  cancel.remove();\n",
              "\n",
              "  // Disable the input element since further picks are not allowed.\n",
              "  inputElement.disabled = true;\n",
              "\n",
              "  if (!files) {\n",
              "    return {\n",
              "      response: {\n",
              "        action: 'complete',\n",
              "      }\n",
              "    };\n",
              "  }\n",
              "\n",
              "  for (const file of files) {\n",
              "    const li = document.createElement('li');\n",
              "    li.append(span(file.name, {fontWeight: 'bold'}));\n",
              "    li.append(span(\n",
              "        `(${file.type || 'n/a'}) - ${file.size} bytes, ` +\n",
              "        `last modified: ${\n",
              "            file.lastModifiedDate ? file.lastModifiedDate.toLocaleDateString() :\n",
              "                                    'n/a'} - `));\n",
              "    const percent = span('0% done');\n",
              "    li.appendChild(percent);\n",
              "\n",
              "    outputElement.appendChild(li);\n",
              "\n",
              "    const fileDataPromise = new Promise((resolve) => {\n",
              "      const reader = new FileReader();\n",
              "      reader.onload = (e) => {\n",
              "        resolve(e.target.result);\n",
              "      };\n",
              "      reader.readAsArrayBuffer(file);\n",
              "    });\n",
              "    // Wait for the data to be ready.\n",
              "    let fileData = yield {\n",
              "      promise: fileDataPromise,\n",
              "      response: {\n",
              "        action: 'continue',\n",
              "      }\n",
              "    };\n",
              "\n",
              "    // Use a chunked sending to avoid message size limits. See b/62115660.\n",
              "    let position = 0;\n",
              "    do {\n",
              "      const length = Math.min(fileData.byteLength - position, MAX_PAYLOAD_SIZE);\n",
              "      const chunk = new Uint8Array(fileData, position, length);\n",
              "      position += length;\n",
              "\n",
              "      const base64 = btoa(String.fromCharCode.apply(null, chunk));\n",
              "      yield {\n",
              "        response: {\n",
              "          action: 'append',\n",
              "          file: file.name,\n",
              "          data: base64,\n",
              "        },\n",
              "      };\n",
              "\n",
              "      let percentDone = fileData.byteLength === 0 ?\n",
              "          100 :\n",
              "          Math.round((position / fileData.byteLength) * 100);\n",
              "      percent.textContent = `${percentDone}% done`;\n",
              "\n",
              "    } while (position < fileData.byteLength);\n",
              "  }\n",
              "\n",
              "  // All done.\n",
              "  yield {\n",
              "    response: {\n",
              "      action: 'complete',\n",
              "    }\n",
              "  };\n",
              "}\n",
              "\n",
              "scope.google = scope.google || {};\n",
              "scope.google.colab = scope.google.colab || {};\n",
              "scope.google.colab._files = {\n",
              "  _uploadFiles,\n",
              "  _uploadFilesContinue,\n",
              "};\n",
              "})(self);\n",
              "</script> "
            ]
          },
          "metadata": {}
        },
        {
          "output_type": "stream",
          "name": "stdout",
          "text": [
            "Saving code.jpg to code.jpg\n"
          ]
        }
      ]
    },
    {
      "cell_type": "markdown",
      "source": [
        "# Practical Questions Answers"
      ],
      "metadata": {
        "id": "uXPc9loINmxJ"
      }
    },
    {
      "cell_type": "markdown",
      "source": [
        "Q1. Write a Python function that takes a list of numbers as input and returns the sum of all even numbers in\n",
        "the list."
      ],
      "metadata": {
        "id": "GmyaXaw8p8Bq"
      }
    },
    {
      "cell_type": "code",
      "source": [
        "def sum_of_even_numbers(numbers):\n",
        "    even_sum = 0\n",
        "    for num in numbers:\n",
        "        if num % 2 == 0:\n",
        "            even_sum += num\n",
        "    return even_sum\n",
        "\n",
        "# Example usage:\n",
        "my_list = [1, 2, 3, 4, 5, 6]\n",
        "result = sum_of_even_numbers(my_list)\n",
        "print(\"Sum of even numbers:\", result)"
      ],
      "metadata": {
        "colab": {
          "base_uri": "https://localhost:8080/"
        },
        "id": "SrwSAZ78AuNc",
        "outputId": "d4219382-fef1-4017-f1c0-ed56caa19ebd"
      },
      "execution_count": 13,
      "outputs": [
        {
          "output_type": "stream",
          "name": "stdout",
          "text": [
            "Sum of even numbers: 12\n"
          ]
        }
      ]
    },
    {
      "cell_type": "markdown",
      "source": [
        "Q2. Create a Python function that accepts a string and returns the reverse of that string."
      ],
      "metadata": {
        "id": "8MBmjxvusGQA"
      }
    },
    {
      "cell_type": "code",
      "source": [
        "def reverse_string(s):\n",
        "    return s[::-1]\n",
        "\n",
        "# Example usage:\n",
        "input_str = \"hello\"\n",
        "reversed_str = reverse_string(input_str)\n",
        "print(\"Reversed string:\", reversed_str)"
      ],
      "metadata": {
        "colab": {
          "base_uri": "https://localhost:8080/"
        },
        "id": "uEjJTUhyCCHF",
        "outputId": "e8e3ec48-5bd7-4b2b-cb69-a2e1c0976fad"
      },
      "execution_count": 14,
      "outputs": [
        {
          "output_type": "stream",
          "name": "stdout",
          "text": [
            "Reversed string: olleh\n"
          ]
        }
      ]
    },
    {
      "cell_type": "markdown",
      "source": [
        "Q3.  Implement a Python function that takes a list of integers and returns a new list containing the squares of\n",
        "each number."
      ],
      "metadata": {
        "id": "G0b49r2O9ajF"
      }
    },
    {
      "cell_type": "code",
      "source": [
        "def square_numbers(numbers):\n",
        "    return [num ** 2 for num in numbers]\n",
        "\n",
        "# Example usage:\n",
        "my_list = [1, 2, 3, 4, 5]\n",
        "squared_list = square_numbers(my_list)\n",
        "print(\"Squared numbers:\", squared_list)"
      ],
      "metadata": {
        "colab": {
          "base_uri": "https://localhost:8080/"
        },
        "id": "GyIDDQ8CCJnh",
        "outputId": "5cbe31da-7cd6-4f69-8fc8-c21b072b88d0"
      },
      "execution_count": 15,
      "outputs": [
        {
          "output_type": "stream",
          "name": "stdout",
          "text": [
            "Squared numbers: [1, 4, 9, 16, 25]\n"
          ]
        }
      ]
    },
    {
      "cell_type": "markdown",
      "source": [
        "Q4. Write a Python function that checks if a given number is prime or not from 1 to 200"
      ],
      "metadata": {
        "id": "CH8Ge-QFCLex"
      }
    },
    {
      "cell_type": "code",
      "source": [
        "def is_prime(n):\n",
        "    if n < 2:\n",
        "        return False  # 0 and 1 are not prime\n",
        "    for i in range(2, int(n**0.5) + 1):\n",
        "        if n % i == 0:\n",
        "            return False  # Found a divisor, not prime\n",
        "    return True  # No divisors found, prime\n",
        "\n",
        "# Example usage:\n",
        "number = 137  # Replace this with any number between 1 and 200\n",
        "if 1 <= number <= 200:\n",
        "    if is_prime(number):\n",
        "        print(f\"{number} is a prime number.\")\n",
        "    else:\n",
        "        print(f\"{number} is not a prime number.\")\n",
        "else:\n",
        "    print(\"Number out of range (1–200).\")\n"
      ],
      "metadata": {
        "colab": {
          "base_uri": "https://localhost:8080/"
        },
        "id": "s8fyKPWYDOq1",
        "outputId": "d8118ff4-db5c-40eb-c8ac-2244ec7b7430"
      },
      "execution_count": 24,
      "outputs": [
        {
          "output_type": "stream",
          "name": "stdout",
          "text": [
            "137 is a prime number.\n"
          ]
        }
      ]
    },
    {
      "cell_type": "markdown",
      "source": [
        "Q5. . Create an iterator class in Python that generates the Fibonacci sequence up to a specified number of\n",
        "terms."
      ],
      "metadata": {
        "id": "FiDsKBGPDoly"
      }
    },
    {
      "cell_type": "code",
      "source": [
        "class FibonacciIterator:\n",
        "    def __init__(self, max_terms):\n",
        "        self.max_terms = max_terms\n",
        "        self.count = 0\n",
        "        self.a = 0\n",
        "        self.b = 1\n",
        "\n",
        "    def __iter__(self):\n",
        "        return self\n",
        "\n",
        "    def __next__(self):\n",
        "        if self.count >= self.max_terms:\n",
        "            raise StopIteration\n",
        "        if self.count == 0:\n",
        "            self.count += 1\n",
        "            return self.a\n",
        "        elif self.count == 1:\n",
        "            self.count += 1\n",
        "            return self.b\n",
        "        else:\n",
        "            self.a, self.b = self.b, self.a + self.b\n",
        "            self.count += 1\n",
        "            return self.b\n",
        "\n",
        "# Example usage:\n",
        "fib = FibonacciIterator(10)  # Generate first 10 Fibonacci numbers\n",
        "for num in fib:\n",
        "    print(num)\n"
      ],
      "metadata": {
        "colab": {
          "base_uri": "https://localhost:8080/"
        },
        "id": "5LlIbGHoDsRz",
        "outputId": "0260f701-36d9-4aa8-c99a-84fe0902e67a"
      },
      "execution_count": 25,
      "outputs": [
        {
          "output_type": "stream",
          "name": "stdout",
          "text": [
            "0\n",
            "1\n",
            "1\n",
            "2\n",
            "3\n",
            "5\n",
            "8\n",
            "13\n",
            "21\n",
            "34\n"
          ]
        }
      ]
    },
    {
      "cell_type": "markdown",
      "source": [
        "Q6. Write a generator function in Python that yields the powers of 2 up to a given exponent."
      ],
      "metadata": {
        "id": "OC0Gjj8kD0MD"
      }
    },
    {
      "cell_type": "code",
      "source": [
        "def powers_of_two(max_exponent):\n",
        "    for exp in range(max_exponent + 1):\n",
        "        yield 2 ** exp\n",
        "\n",
        "# Example usage:\n",
        "for power in powers_of_two(5):\n",
        "    print(power)\n"
      ],
      "metadata": {
        "colab": {
          "base_uri": "https://localhost:8080/"
        },
        "id": "Oy2J2X6eD3j4",
        "outputId": "cf77e0dd-92df-49fb-e83b-101f14be040a"
      },
      "execution_count": 26,
      "outputs": [
        {
          "output_type": "stream",
          "name": "stdout",
          "text": [
            "1\n",
            "2\n",
            "4\n",
            "8\n",
            "16\n",
            "32\n"
          ]
        }
      ]
    },
    {
      "cell_type": "markdown",
      "source": [
        "Q.7 . Implement a generator function that reads a file line by line and yields each line as a string."
      ],
      "metadata": {
        "id": "hwiStqzQD98K"
      }
    },
    {
      "cell_type": "code",
      "source": [
        "def read_file_line_by_line(filename):\n",
        "    with open(filename, 'r') as file:\n",
        "        for line in file:\n",
        "            yield line.rstrip('\\n')  # Remove trailing newline (optional)"
      ],
      "metadata": {
        "id": "0G3BYiF9I5U9"
      },
      "execution_count": 42,
      "outputs": []
    },
    {
      "cell_type": "markdown",
      "source": [
        "Q8. Use a lambda function in Python to sort a list of tuples based on the second element of each tuple."
      ],
      "metadata": {
        "id": "oklVpo3aExVr"
      }
    },
    {
      "cell_type": "code",
      "source": [
        "# Sample list of tuples\n",
        "my_list = [(1, 5), (3, 1), (2, 4), (4, 2)]\n",
        "\n",
        "# Sort by the second element using a lambda function\n",
        "sorted_list = sorted(my_list, key=lambda x: x[1])\n",
        "\n",
        "# Print the result\n",
        "print(sorted_list)\n"
      ],
      "metadata": {
        "colab": {
          "base_uri": "https://localhost:8080/"
        },
        "id": "qg6yXsEVE89L",
        "outputId": "7bcf60fd-9301-42c0-8766-ee11b425618a"
      },
      "execution_count": 31,
      "outputs": [
        {
          "output_type": "stream",
          "name": "stdout",
          "text": [
            "[(3, 1), (4, 2), (2, 4), (1, 5)]\n"
          ]
        }
      ]
    },
    {
      "cell_type": "markdown",
      "source": [
        "Q9.  Write a Python program that uses `map()` to convert a list of temperatures from Celsius to Fahrenheit."
      ],
      "metadata": {
        "id": "dsDz3hCoE0zS"
      }
    },
    {
      "cell_type": "code",
      "source": [
        "# Function to convert Celsius to Fahrenheit\n",
        "def celsius_to_fahrenheit(c):\n",
        "    return (c * 9/5) + 32\n",
        "\n",
        "# List of temperatures in Celsius\n",
        "celsius_temps = [0, 20, 30, 37, 100]\n",
        "\n",
        "# Use map() to convert to Fahrenheit\n",
        "fahrenheit_temps = list(map(celsius_to_fahrenheit, celsius_temps))\n",
        "\n",
        "# Print the result\n",
        "print(\"Fahrenheit temperatures:\", fahrenheit_temps)\n"
      ],
      "metadata": {
        "colab": {
          "base_uri": "https://localhost:8080/"
        },
        "id": "bQdXWF2qFC3K",
        "outputId": "e613f95c-d1a2-4ceb-be3b-ee8c9f5153bc"
      },
      "execution_count": 32,
      "outputs": [
        {
          "output_type": "stream",
          "name": "stdout",
          "text": [
            "Fahrenheit temperatures: [32.0, 68.0, 86.0, 98.6, 212.0]\n"
          ]
        }
      ]
    },
    {
      "cell_type": "markdown",
      "source": [
        "Q10. Create a Python program that uses `filter()` to remove all the vowels from a given string."
      ],
      "metadata": {
        "id": "FLYiJHZpFJ-M"
      }
    },
    {
      "cell_type": "code",
      "source": [
        "def remove_vowels(input_str):\n",
        "    vowels = 'aeiouAEIOU'\n",
        "    return ''.join(filter(lambda char: char not in vowels, input_str))\n",
        "\n",
        "# Example usage\n",
        "text = \"Hello, World!\"\n",
        "result = remove_vowels(text)\n",
        "print(\"String without vowels:\", result)\n"
      ],
      "metadata": {
        "colab": {
          "base_uri": "https://localhost:8080/"
        },
        "id": "XSbVpYd2FSVr",
        "outputId": "95394395-cd9e-4f44-9b7e-24eb455f46a4"
      },
      "execution_count": 33,
      "outputs": [
        {
          "output_type": "stream",
          "name": "stdout",
          "text": [
            "String without vowels: Hll, Wrld!\n"
          ]
        }
      ]
    },
    {
      "cell_type": "markdown",
      "source": [
        "Q11.  Imagine an accounting routine used in a book shop. It works on a list with sublists, which look like this:\n",
        "\n",
        "Order Number    Book Title and Author                Quantity    Price Per Item\n",
        "346587          Learning Python,Mark Lutz               4            40.95\n",
        "98762           Programming Python,Mark Lutz            5            56.80\n",
        "77226           Head First Python, Paul Barry           3            32.95\n",
        "88112           Einfuhrung in python3, Bernd klein      3            24.99\n",
        "\n",
        "\n",
        "Write a Python program, which returns a list with 2-tuples. Each tuple consists of the order number and the\n",
        "product of the price per item and the quantity. The product should be increased by 10,- € if the value of the\n",
        "order is smaller than 100,00 €.\n",
        "\n",
        "Write a Python program using lambda and map."
      ],
      "metadata": {
        "id": "EUmaRx8TFWME"
      }
    },
    {
      "cell_type": "code",
      "source": [
        "orders = [\n",
        "    [346587, \"Learning Python, Mark Lutz\", 4, 40.95],\n",
        "    [98762, \"Programming Python, Mark Lutz\", 5, 56.80],\n",
        "    [77226, \"Head First Python, Paul Barry\", 3, 32.95],\n",
        "    [88112, \"Einfuhrung in Python3, Bernd Klein\", 3, 24.99]\n",
        "]\n",
        "\n",
        "# Use lambda and map to process the list\n",
        "result = list(map(lambda order: (\n",
        "    order[0],\n",
        "    round(order[2] * order[3] + (10 if order[2] * order[3] < 100 else 0), 2)\n",
        "), orders))\n",
        "\n",
        "print(result)\n"
      ],
      "metadata": {
        "colab": {
          "base_uri": "https://localhost:8080/"
        },
        "id": "B-gmJGTfHG0t",
        "outputId": "74ba179c-3486-4f1f-fde6-f652eadb9759"
      },
      "execution_count": 35,
      "outputs": [
        {
          "output_type": "stream",
          "name": "stdout",
          "text": [
            "[(346587, 163.8), (98762, 284.0), (77226, 108.85), (88112, 84.97)]\n"
          ]
        }
      ]
    }
  ]
}